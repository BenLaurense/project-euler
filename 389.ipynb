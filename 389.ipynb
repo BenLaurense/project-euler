{
 "cells": [
  {
   "cell_type": "code",
   "execution_count": 1,
   "id": "d44172f8",
   "metadata": {},
   "outputs": [],
   "source": [
    "import math"
   ]
  },
  {
   "cell_type": "markdown",
   "id": "55c85844",
   "metadata": {},
   "source": [
    "$\\textbf{Project Euler Problem 389: Platonic Dice Solution}$\n",
    "\n",
    "The key here is formulae for the expectation and variance of the sum of a random number of iid variables. These are easily proved from first principles: if $X_i\\sim X$ are iid, $N$ a positive integer-valued random variable independent of the $x_i$, and $Y=\\sum_{n=1}^N X_n$, then:\n",
    "\\begin{gather*}\n",
    "\\mathbb{E}Y=\\mathbb{E}X\\cdot\\mathbb{E}N, \\\\ \\text{Var}Y=\\text{Var}X\\cdot\\mathbb{E}N+(\\mathbb{E}X)^2\\text{Var}N\n",
    "\\end{gather*}\n",
    "\n",
    "In light of the formula above, the calculation happens in stages, recording the expectation and variance for each dice set.\n",
    "\n",
    "The final answer is $2406376.3623$; the variance grows really fast due to the cross-term in the variance."
   ]
  },
  {
   "cell_type": "code",
   "execution_count": 9,
   "id": "f6a21809",
   "metadata": {},
   "outputs": [
    {
     "name": "stdout",
     "output_type": "stream",
     "text": [
      "Exp: 2.5, Var: 1.25\n",
      "Exp: 8.75, Var: 22.604166666666664\n",
      "Exp: 39.375, Var: 503.67187499999994\n",
      "Exp: 255.9375, Var: 21749.355468749996\n",
      "Exp: 2687.34375, Var: 2406376.362304687\n"
     ]
    }
   ],
   "source": [
    "def get_dice_stats(num_faces):\n",
    "    return (num_faces + 1)/2, (num_faces**2 - 1)/12\n",
    "\n",
    "\n",
    "def calc_next_stats(variable_E, variable_Var, counter_E, counter_Var):\n",
    "    return variable_E*counter_E, variable_Var*counter_E + (variable_E**2)*counter_Var\n",
    "\n",
    "\n",
    "# Stage 1:\n",
    "ET, VarT = get_dice_stats(4)\n",
    "print(\"Exp: {}, Var: {}\".format(ET, VarT))\n",
    "\n",
    "# Stage 2:\n",
    "EC, VarC = calc_next_stats(*get_dice_stats(6), ET, VarT)\n",
    "print(\"Exp: {}, Var: {}\".format(EC, VarC))\n",
    "\n",
    "# Stage 3:\n",
    "EO, VarO = calc_next_stats(*get_dice_stats(8), EC, VarC)\n",
    "print(\"Exp: {}, Var: {}\".format(EO, VarO))\n",
    "\n",
    "# Stage 4:\n",
    "ED, VarD = calc_next_stats(*get_dice_stats(12), EO, VarO)\n",
    "print(\"Exp: {}, Var: {}\".format(ED, VarD))\n",
    "\n",
    "# Stage 5:\n",
    "EI, VarI = calc_next_stats(*get_dice_stats(20), ED, VarD)\n",
    "print(\"Exp: {}, Var: {}\".format(EI, VarI))"
   ]
  },
  {
   "cell_type": "code",
   "execution_count": null,
   "id": "65dec569",
   "metadata": {},
   "outputs": [],
   "source": []
  }
 ],
 "metadata": {
  "kernelspec": {
   "display_name": "Python 3 (ipykernel)",
   "language": "python",
   "name": "python3"
  },
  "language_info": {
   "codemirror_mode": {
    "name": "ipython",
    "version": 3
   },
   "file_extension": ".py",
   "mimetype": "text/x-python",
   "name": "python",
   "nbconvert_exporter": "python",
   "pygments_lexer": "ipython3",
   "version": "3.10.6"
  }
 },
 "nbformat": 4,
 "nbformat_minor": 5
}
