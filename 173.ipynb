{
 "cells": [
  {
   "cell_type": "code",
   "execution_count": 14,
   "id": "910f6ba8",
   "metadata": {},
   "outputs": [],
   "source": [
    "import math\n",
    "from tqdm import tqdm"
   ]
  },
  {
   "cell_type": "markdown",
   "id": "cbe9067c",
   "metadata": {},
   "source": [
    "$\\textbf{Project Euler Problem 371: Square Laminae I Solution}$\n",
    "\n",
    "Let the outer length of the lamina be $n$, and the length of the hole be $m$. Valid $m$ giving a lamina are $m\\in\\{1,..., n-2 \\}$ for odd $n$ and $m\\in\\{2,..., n-2 \\}$ for even $n$. It is easier to parameterise by $m=n-2a$, $a\\in\\{ 1,..., \\lfloor \\frac{n-1}2\\rfloor\\}$. Then the area of the lamina is given by $A=4a(n-a)$.\n",
    "\n",
    "Ignoring area considerations, the number of laminae with a given outer length is $$L(n)=\\left\\lfloor \\frac{n-1}2\\right\\rfloor$$\n",
    "Accounting for area considerations: for fixed $n$ and area $A$, the area condition becomes $$a\\leq\\frac{n-\\sqrt{n^2-A}}2$$\n",
    "\n",
    "Some algebra and edge case checking later leads to the formula: $$L(n,A) = \\begin{cases}\n",
    "  \\left\\lfloor \\frac{n-1}2\\right\\rfloor & n^2\\leq A \\\\\n",
    "  \\left\\lfloor\\frac{n-\\sqrt{n^2-A}}2\\right\\rfloor & \\text{otherwise}\n",
    "\\end{cases}$$\n",
    "\n",
    "Summing $L$ for $n\\leq 10^6$ is quick."
   ]
  },
  {
   "cell_type": "code",
   "execution_count": 62,
   "id": "aa4d91a5",
   "metadata": {},
   "outputs": [
    {
     "name": "stderr",
     "output_type": "stream",
     "text": [
      "100%|████████████████████████████████████████████████████████████████████████████████████████████| 9/9 [00:00<?, ?it/s]"
     ]
    },
    {
     "name": "stdout",
     "output_type": "stream",
     "text": [
      "Side lengths 3, 1. Area 8\n",
      "Side lengths 4, 2. Area 12\n",
      "Side lengths 5, 3. Area 16\n",
      "Side lengths 5, 1. Area 24\n",
      "Side lengths 6, 4. Area 20\n",
      "Side lengths 6, 2. Area 32\n",
      "Side lengths 7, 5. Area 24\n",
      "Side lengths 7, 3. Area 40\n",
      "Side lengths 7, 1. Area 48\n",
      "Side lengths 8, 6. Area 28\n",
      "Side lengths 8, 4. Area 48\n",
      "Side lengths 8, 2. Area 60\n",
      "Side lengths 9, 7. Area 32\n",
      "Side lengths 9, 5. Area 56\n",
      "Side lengths 9, 3. Area 72\n",
      "Side lengths 9, 1. Area 80\n",
      "Side lengths 10, 8. Area 36\n",
      "Side lengths 10, 6. Area 64\n",
      "Side lengths 10, 4. Area 84\n",
      "Side lengths 10, 2. Area 96\n",
      "Side lengths 11, 9. Area 40\n",
      "Side lengths 11, 7. Area 72\n",
      "Side lengths 11, 5. Area 96\n",
      "Side lengths 11, 3. Area 112\n",
      "Side lengths 11, 1. Area 120\n"
     ]
    },
    {
     "name": "stderr",
     "output_type": "stream",
     "text": [
      "\n"
     ]
    }
   ],
   "source": [
    "# Brute force loop for checking\n",
    "\n",
    "max_area = 40\n",
    "count = 0\n",
    "for n in tqdm(range(3, max_area//4 + 2)):\n",
    "    for a in range(1, (n-1)//2 + 1):\n",
    "        area = 4*a*(n-a)\n",
    "        if area <= max_area:\n",
    "            count += 1\n",
    "        print(\"Side lengths {}, {}. Area {}\".format(n, n-2*a, 4*a*(n-a)))"
   ]
  },
  {
   "cell_type": "code",
   "execution_count": 63,
   "id": "de151369",
   "metadata": {},
   "outputs": [
    {
     "name": "stderr",
     "output_type": "stream",
     "text": [
      "100%|██████████████████████████████████████████████████████████████████████| 249999/249999 [00:00<00:00, 960998.86it/s]"
     ]
    },
    {
     "name": "stdout",
     "output_type": "stream",
     "text": [
      "Number of distinct laminae with area less than 1000000: 1572729\n"
     ]
    },
    {
     "name": "stderr",
     "output_type": "stream",
     "text": [
      "\n"
     ]
    }
   ],
   "source": [
    "# Faster loop: calculate the number of valid laminae for a given n directly\n",
    "\n",
    "def answer(max_area):\n",
    "    total = 0\n",
    "    for n in tqdm(range(3, max_area//4 + 2)):\n",
    "        total += l3(n, max_area)\n",
    "    return total\n",
    "\n",
    "def number_of_laminae(n, A):\n",
    "    if n**2 <= A:\n",
    "        return (n-1)//2\n",
    "    else:\n",
    "        return int((n - math.sqrt(n**2 - A))//2)\n",
    "\n",
    "max_area = 10**6\n",
    "print(\"Number of distinct laminae with area less than {}: {}\".format(max_area, answer(max_area)))"
   ]
  }
 ],
 "metadata": {
  "kernelspec": {
   "display_name": "Python 3 (ipykernel)",
   "language": "python",
   "name": "python3"
  },
  "language_info": {
   "codemirror_mode": {
    "name": "ipython",
    "version": 3
   },
   "file_extension": ".py",
   "mimetype": "text/x-python",
   "name": "python",
   "nbconvert_exporter": "python",
   "pygments_lexer": "ipython3",
   "version": "3.10.6"
  }
 },
 "nbformat": 4,
 "nbformat_minor": 5
}
