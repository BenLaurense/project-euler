{
 "cells": [
  {
   "cell_type": "code",
   "execution_count": 1,
   "id": "e0d4b465",
   "metadata": {},
   "outputs": [],
   "source": [
    "import math"
   ]
  },
  {
   "cell_type": "code",
   "execution_count": 6,
   "id": "4e8dd50b",
   "metadata": {},
   "outputs": [
    {
     "name": "stdout",
     "output_type": "stream",
     "text": [
      "2496\n"
     ]
    }
   ],
   "source": [
    "def is_square(n):\n",
    "    return n == math.floor(math.sqrt(n))**2\n",
    "\n",
    "def brute_force(M):\n",
    "    total = 0\n",
    "    for a in range(1, M + 1):\n",
    "        for z in range(1, M + 1):\n",
    "            if is_square(a**2 + z**2):\n",
    "                total += z - 1 # Choices for b, c\n",
    "    return total\n",
    "\n",
    "\n",
    "def brute_force2(M):\n",
    "    total = 0\n",
    "    for a in range(1, M + 1):\n",
    "        for b in range(a, M + 1):\n",
    "            for c in range(b, M + 1):\n",
    "                if is_square(a**2 + (b + c)**2):\n",
    "                    total += 1 # Choices for b, c\n",
    "    return total\n",
    "\n",
    "\n",
    "print(brute_force2(100)*3)"
   ]
  },
  {
   "cell_type": "code",
   "execution_count": null,
   "id": "bcaef1c8",
   "metadata": {},
   "outputs": [],
   "source": []
  }
 ],
 "metadata": {
  "kernelspec": {
   "display_name": "Python 3 (ipykernel)",
   "language": "python",
   "name": "python3"
  },
  "language_info": {
   "codemirror_mode": {
    "name": "ipython",
    "version": 3
   },
   "file_extension": ".py",
   "mimetype": "text/x-python",
   "name": "python",
   "nbconvert_exporter": "python",
   "pygments_lexer": "ipython3",
   "version": "3.10.6"
  }
 },
 "nbformat": 4,
 "nbformat_minor": 5
}
