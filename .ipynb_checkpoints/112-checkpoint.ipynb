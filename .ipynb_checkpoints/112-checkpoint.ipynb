{
 "cells": [
  {
   "cell_type": "code",
   "execution_count": 2,
   "id": "ebed5857",
   "metadata": {},
   "outputs": [],
   "source": [
    "import math\n",
    "import numpy as np"
   ]
  },
  {
   "cell_type": "markdown",
   "id": "c4003a99",
   "metadata": {},
   "source": [
    "$\\textbf{Project Euler Problem 112: Bouncy Numbers}$\n",
    "\n",
    "Number of non-decreasing sequences of $n$ digits is $\\binom{n+8}{8}$. This can be seen by stars and bars reasoning (standard exercise). Similarly, the number of non-increasing sequences is given by $\\binom{n+9}{9}-1$, accounting for the all-zero sequence. There are only 9.\n",
    "\n",
    "Thus the proportion of non-bouncy sequences is $P_n=\\frac{\\binom{n+9}9+\\binom{n+8}8-1}{9\\cdot10^n}$. The numbers involved are too small to need any approximations/bounds."
   ]
  },
  {
   "cell_type": "code",
   "execution_count": 183,
   "id": "8f93cd54",
   "metadata": {},
   "outputs": [
    {
     "name": "stdout",
     "output_type": "stream",
     "text": [
      "1 0.0\n",
      "2 0.0\n",
      "3 0.5255255255255256\n",
      "4 0.8325832583258326\n",
      "5 0.950469504695047\n",
      "6 0.987048987048987\n",
      "7 0.9969183996918399\n",
      "8 0.9993201399932014\n",
      "9 0.9998590939998591\n"
     ]
    }
   ],
   "source": [
    "def num_not_bouncy(length):\n",
    "    return math.comb(length+9, 9) + math.comb(length+8, 8) - 10\n",
    "\n",
    "def total_not_bouncy(length):\n",
    "    total = 0\n",
    "    for l in range(1, length+1):\n",
    "        total += num_not_bouncy(l)\n",
    "    return total\n",
    "\n",
    "def prop_bouncy(length):\n",
    "    # Calculates the proportion of bouncy numbers of lengths <= length\n",
    "    return 1 - total_not_bouncy(length)/(10**length-1)\n",
    "\n",
    "for l in range(1, 10):\n",
    "    print(l, prop_bouncy(l))"
   ]
  },
  {
   "cell_type": "markdown",
   "id": "9da5eee2",
   "metadata": {},
   "source": [
    "So we hit 99% bouncy numbers towards the beginning of the 7-digit numbers. We can start at 999999 and manually check numbers to update the bouncy count.\n",
    "\n",
    "There are large speedups if instead of checking each number for bouncy-ness, we recursively count bouncy numbers with a given leading string."
   ]
  },
  {
   "cell_type": "code",
   "execution_count": 185,
   "id": "1e947ab7",
   "metadata": {},
   "outputs": [
    {
     "name": "stdout",
     "output_type": "stream",
     "text": [
      "There are 987048 bouncy numbers <= 999999\n",
      "Success\n",
      "The proportion of bouncy numbers 0.9900000063011932 at 1587001\n",
      "The proportion of bouncy numbers exceeds 0.99 at 1587000\n"
     ]
    }
   ],
   "source": [
    "def is_bouncy(number):\n",
    "    string_rep = str(number)\n",
    "    digits = list(map(lambda digit: int(digit), string_rep))\n",
    "    num_digits = len(digits)\n",
    "    if all(digits[i] <= digits[i+1] for i in range(num_digits - 1)):\n",
    "        return False\n",
    "    elif all(digits[i] >= digits[i+1] for i in range(num_digits - 1)):\n",
    "        return False\n",
    "    else:\n",
    "        return True\n",
    "\n",
    "\n",
    "def increment_count(start, count_leq_start, end):\n",
    "    print(\"There are {} bouncy numbers <= {}\".format(count_leq_start, start))\n",
    "    \n",
    "    num = start + 1\n",
    "    count = count_leq_start\n",
    "    while num <= end:\n",
    "        count += is_bouncy(num)\n",
    "        \n",
    "        proportion = count/num\n",
    "        if proportion > 0.99:\n",
    "            print(\"Success\")\n",
    "            return num, count, proportion\n",
    "        \n",
    "        num += 1\n",
    "    return num, count, proportion\n",
    "\n",
    "min_len = 6\n",
    "start_num, start_count = int(\"\".join([\"9\"]*min_len)), 10**min_len - 1 - total_not_bouncy(min_len)\n",
    "\n",
    "final_num, final_count, final_proportion = increment_count(start_num, start_count, start_num*2)\n",
    "print(\"The proportion of bouncy numbers {} at {}\".format(final_proportion, final_num))\n",
    "print(\"The proportion of bouncy numbers exceeds 0.99 at {}\".format(final_num - 1))"
   ]
  }
 ],
 "metadata": {
  "kernelspec": {
   "display_name": "Python 3 (ipykernel)",
   "language": "python",
   "name": "python3"
  },
  "language_info": {
   "codemirror_mode": {
    "name": "ipython",
    "version": 3
   },
   "file_extension": ".py",
   "mimetype": "text/x-python",
   "name": "python",
   "nbconvert_exporter": "python",
   "pygments_lexer": "ipython3",
   "version": "3.10.6"
  }
 },
 "nbformat": 4,
 "nbformat_minor": 5
}
