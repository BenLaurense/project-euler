{
 "cells": [
  {
   "cell_type": "code",
   "execution_count": 1,
   "id": "b60492c5",
   "metadata": {},
   "outputs": [],
   "source": [
    "import math"
   ]
  },
  {
   "cell_type": "markdown",
   "id": "1c849868",
   "metadata": {},
   "source": [
    "$\\textbf{Project Euler Problem 203: Squarefree Binomial Coefficients}$\n",
    "\n",
    "This could probably be solved in a clever way using Kummer's Theorem: the power of $p$ dividing${n}\\choose{k}$ is given by the number of carries when $n$ is added to $n-m$ modulo $p$ (this is a direct consequence of Legendre's formula).\n",
    "\n",
    "Manual checking is fast enough though, because we have to only check primes up to 7. There are no notable speedups beyond that."
   ]
  },
  {
   "cell_type": "code",
   "execution_count": 16,
   "id": "ee5be8e6",
   "metadata": {},
   "outputs": [
    {
     "name": "stdout",
     "output_type": "stream",
     "text": [
      "The sum of distinct squarefree numbers in Pascal's triangle up to row 51 is 34029210557338\n"
     ]
    }
   ],
   "source": [
    "prime_squares = [4, 9, 25, 49]\n",
    "\n",
    "\n",
    "def squarefree(x):\n",
    "    for prime_square in prime_squares:\n",
    "        if not x % prime_square:\n",
    "            return False\n",
    "    return True\n",
    "\n",
    "\n",
    "def answer():\n",
    "    squarefrees = {1}\n",
    "    for n in range(2, 50):\n",
    "        for k in range(1, n//2 + 1):\n",
    "            value = math.comb(n, k)\n",
    "#             print(\"n: {}, k: {}, bnom: {}\".format(n, k, value))\n",
    "            \n",
    "            # Add to set\n",
    "            if squarefree(value):\n",
    "                squarefrees.add(value)\n",
    "    return sum(squarefrees)\n",
    "\n",
    "\n",
    "print(\"The sum of distinct squarefree numbers in Pascal's triangle up to row 51 is {}\".format(answer()))"
   ]
  }
 ],
 "metadata": {
  "kernelspec": {
   "display_name": "Python 3 (ipykernel)",
   "language": "python",
   "name": "python3"
  },
  "language_info": {
   "codemirror_mode": {
    "name": "ipython",
    "version": 3
   },
   "file_extension": ".py",
   "mimetype": "text/x-python",
   "name": "python",
   "nbconvert_exporter": "python",
   "pygments_lexer": "ipython3",
   "version": "3.10.6"
  }
 },
 "nbformat": 4,
 "nbformat_minor": 5
}
