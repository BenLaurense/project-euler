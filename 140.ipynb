{
 "cells": [
  {
   "cell_type": "code",
   "execution_count": 32,
   "id": "48d204db",
   "metadata": {},
   "outputs": [],
   "source": [
    "import math"
   ]
  },
  {
   "cell_type": "markdown",
   "id": "4a7a73aa",
   "metadata": {},
   "source": [
    "$\\textbf{Project Euler Problem 140: Modified Fibonacci Golden Nuggets Solution}$\n",
    "\n",
    "A closed form for the generating function $A$ is \n",
    "$$A=\\frac{x-3x^2}{1-x-x^2}$$\n",
    "\n",
    "The equation $A(x)=n$ reduces to a quadratic in $x$, which is rational iff the discriminant is a perfect square. Denoting the discriminant by $D$, this condition reduces to a generalised Pell equation: \n",
    "$$(5n+7)^2-5D^2=44$$\n",
    "\n",
    "There is standard theory for solving these (which is a massive pain). There are 6 fundamental solutions in the integers: \n",
    "$$(n, D)\\in\\{(2, -7), (0, -1), (0, 1), (-4, 5), (-3, 2), (-3, -2)\\}$$\n",
    "\n",
    "and two recurrences generate all solutions. The solutions increase in absolute value, so we can recursively generate them and filter those with positive $n$ (this was very fast; I was expecting to have to do something cleverer).\n",
    "\n",
    "$\\textbf{I'm still unsure about the dynamics of the recurrences; there might be some nice properties making the calculation simpler}$"
   ]
  },
  {
   "cell_type": "code",
   "execution_count": 35,
   "id": "978379a5",
   "metadata": {},
   "outputs": [],
   "source": [
    "# Functions for verifying individual solutions\n",
    "\n",
    "def is_square(n):\n",
    "    poly = 5*n**2 + 14*n + 1\n",
    "    return math.floor(math.sqrt(poly))**2 == poly\n",
    "\n",
    "def calc_x(n):\n",
    "    root = math.floor(math.sqrt(5*n**2 + 14*n + 1))\n",
    "    numerator = root - (n + 1)\n",
    "    denominator = 2*(3 + n)\n",
    "    return (numerator, denominator)\n",
    "\n",
    "def calc_A(x):\n",
    "    return (x + 3*x**2)/(1 - x - x**2)"
   ]
  },
  {
   "cell_type": "code",
   "execution_count": 55,
   "id": "e0dbf7a4",
   "metadata": {},
   "outputs": [
    {
     "name": "stdout",
     "output_type": "stream",
     "text": [
      "The sum of the first 30 golden nuggets is 5673835352990\n"
     ]
    }
   ],
   "source": [
    "fundamental_solutions = {(2, -7), (0, -1), (0, 1), (-4, 5), (-3, 2), (-3, -2)}\n",
    "\n",
    "\n",
    "def next_solutions(s):\n",
    "    s1, s2 = (-9*s[0] + 4*s[1] - 14, 20*s[0] - 9*s[1] + 28), (-9*s[0] - 4*s[1] - 14, -20*s[0] - 9*s[1] - 28)\n",
    "    return {s1, s2}\n",
    "\n",
    "\n",
    "def add_next_solutions(solutions):\n",
    "    new_solutions = set()\n",
    "    for solution in solutions:\n",
    "        new_solutions = new_solutions.union(next_solutions(solution))\n",
    "    return new_solutions.union(solutions)\n",
    "\n",
    "    \n",
    "def answer(limit):\n",
    "    s = fundamental_solutions\n",
    "    for _ in range(limit):\n",
    "        s = add_next_solutions(s)\n",
    "        \n",
    "    uniques = set()\n",
    "    for t in s:\n",
    "        if t[0] > 0:\n",
    "            uniques.add(t[0])\n",
    "            \n",
    "    answer = list(uniques)\n",
    "    answer.sort()\n",
    "    \n",
    "    return answer\n",
    "\n",
    "\n",
    "# Limit of 10 is enough to generate enough golden nuggets\n",
    "limit = 10\n",
    "\n",
    "print(\"The sum of the first 30 golden nuggets is {}\".format(sum(answer(limit)[:30])))"
   ]
  }
 ],
 "metadata": {
  "kernelspec": {
   "display_name": "Python 3 (ipykernel)",
   "language": "python",
   "name": "python3"
  },
  "language_info": {
   "codemirror_mode": {
    "name": "ipython",
    "version": 3
   },
   "file_extension": ".py",
   "mimetype": "text/x-python",
   "name": "python",
   "nbconvert_exporter": "python",
   "pygments_lexer": "ipython3",
   "version": "3.10.6"
  }
 },
 "nbformat": 4,
 "nbformat_minor": 5
}
